{
 "cells": [
  {
   "cell_type": "markdown",
   "id": "4f77aaa3-9339-4150-83b6-c3f50563e4b4",
   "metadata": {},
   "source": [
    "## NVIDIA AI Foundation Models"
   ]
  },
  {
   "cell_type": "markdown",
   "id": "95a5aa12-0b80-40bb-91eb-e23e46ae8372",
   "metadata": {},
   "source": [
    "[NVIDIA AI Foundation Endpoints](https://build.nvidia.com/) let you try leading foundation models like\n",
    "Mixtral, Llama 3, Stable Diffusion, etc. through API endpoints hosted by NVIDIA. These models have been optimized for inference and are built off responsibly sourced \n",
    "datasets suitable for enterprise applications.\n",
    "\n",
    "In order to use NVIDIA AI Foundation Endpoints, you must create a free NVIDIA API account with NVIDIA NGC and then generate an API Key.\n",
    "After generating an API key. Instructions for generating your own API key."
   ]
  },
  {
   "cell_type": "markdown",
   "id": "4fc13b72-e210-43ed-8763-6fa338e9712d",
   "metadata": {},
   "source": [
    "---"
   ]
  },
  {
   "cell_type": "markdown",
   "id": "b7c92f6f-257c-48ad-a7b4-d448fa831ed1",
   "metadata": {},
   "source": [
    "## NVIDIA API\n",
    "1. Visit the [NVIDIA API homepage](https://build.nvidia.com).\n",
    "2. Sign in with your email and password if you already have an existing account, or create a new free account.\n",
    "\n",
    "<div style=\"text-align: center;\">\n",
    "<img src=\"img/login.png\" width=\"600\" alt=\"NVIDIA API Sign In\">\n",
    "</div>"
   ]
  },
  {
   "cell_type": "markdown",
   "id": "999132fa-72a9-4ce1-8a41-7b34ffcd914d",
   "metadata": {},
   "source": [
    "---"
   ]
  },
  {
   "cell_type": "markdown",
   "id": "be977727-3a34-46c2-8f30-cb99c4b3a632",
   "metadata": {},
   "source": [
    "## AI Foundation Models"
   ]
  },
  {
   "cell_type": "markdown",
   "id": "401a2043-6c53-4486-871d-a1c65d5c6029",
   "metadata": {},
   "source": [
    "After signing, click on one of the *Top Foundation Models*, for example [Mixtral-8x22b](https://build.nvidia.com/mistralai/mixtral-8x22b-instruct). \n",
    "\n",
    "<div style=\"text-align: center;\">\n",
    "<img src=\"img/mixtral.png\" width=\"600\" alt=\"Mixtral\">\n",
    "</div>"
   ]
  },
  {
   "cell_type": "markdown",
   "id": "d14708c4-c9e1-432b-8c75-054bb1fd7d5a",
   "metadata": {},
   "source": [
    "As shown below, click on *Get API Key* in the pane on the bottom-right of the screen, then select *Generate API Key*.\n",
    "\n",
    "<div style=\"text-align: center;\">\n",
    "<img src=\"img/get_key.png\" width=\"600\" alt=\"Mixtral Generate Key\">\n",
    "</div>"
   ]
  }
 ],
 "metadata": {
  "kernelspec": {
   "display_name": "Bash",
   "language": "bash",
   "name": "bash"
  },
  "language_info": {
   "codemirror_mode": "shell",
   "file_extension": ".sh",
   "mimetype": "text/x-sh",
   "name": "bash"
  }
 },
 "nbformat": 4,
 "nbformat_minor": 5
}
